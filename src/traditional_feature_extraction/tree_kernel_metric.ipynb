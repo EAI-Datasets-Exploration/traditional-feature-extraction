{
 "cells": [
  {
   "cell_type": "code",
   "execution_count": 1,
   "metadata": {},
   "outputs": [],
   "source": [
    "import pandas as pd\n",
    "import stanza\n",
    "from collections import defaultdict\n"
   ]
  },
  {
   "cell_type": "code",
   "execution_count": 2,
   "metadata": {},
   "outputs": [
    {
     "data": {
      "text/html": [
       "<div>\n",
       "<style scoped>\n",
       "    .dataframe tbody tr th:only-of-type {\n",
       "        vertical-align: middle;\n",
       "    }\n",
       "\n",
       "    .dataframe tbody tr th {\n",
       "        vertical-align: top;\n",
       "    }\n",
       "\n",
       "    .dataframe thead th {\n",
       "        text-align: right;\n",
       "    }\n",
       "</style>\n",
       "<table border=\"1\" class=\"dataframe\">\n",
       "  <thead>\n",
       "    <tr style=\"text-align: right;\">\n",
       "      <th></th>\n",
       "      <th>Unnamed: 0</th>\n",
       "      <th>ID#</th>\n",
       "      <th>Timestamp</th>\n",
       "      <th>nl_instructions</th>\n",
       "      <th>Experiment number</th>\n",
       "      <th>Commander ID</th>\n",
       "      <th>Trial</th>\n",
       "      <th>spacy_parse</th>\n",
       "      <th>dep_parse_tree</th>\n",
       "      <th>constit_parse_tree</th>\n",
       "      <th>word_len</th>\n",
       "      <th>verbs</th>\n",
       "      <th>nouns</th>\n",
       "    </tr>\n",
       "  </thead>\n",
       "  <tbody>\n",
       "    <tr>\n",
       "      <th>0</th>\n",
       "      <td>0</td>\n",
       "      <td>98</td>\n",
       "      <td>2018-09-05 10:32:55.18</td>\n",
       "      <td>and take a picture</td>\n",
       "      <td>3</td>\n",
       "      <td>18</td>\n",
       "      <td>train</td>\n",
       "      <td>{'text': 'and take a picture', 'ents': [], 'se...</td>\n",
       "      <td>head: 1 dep: cc; head: 1 dep: ROOT; head: 3 de...</td>\n",
       "      <td>(ROOT (S (CC and) (VP (VB take) (NP (DT a) (NN...</td>\n",
       "      <td>4</td>\n",
       "      <td>['take']</td>\n",
       "      <td>['picture']</td>\n",
       "    </tr>\n",
       "    <tr>\n",
       "      <th>1</th>\n",
       "      <td>3</td>\n",
       "      <td>311</td>\n",
       "      <td>2018-09-17 10:50:11.81</td>\n",
       "      <td>so how many doorways did you find</td>\n",
       "      <td>3</td>\n",
       "      <td>29</td>\n",
       "      <td>train</td>\n",
       "      <td>{'text': 'so how many doorways did you find', ...</td>\n",
       "      <td>head: 6 dep: advmod; head: 2 dep: advmod; head...</td>\n",
       "      <td>(ROOT (SBARQ (WHNP (WHADJP (RB so) (WRB how) (...</td>\n",
       "      <td>7</td>\n",
       "      <td>['find']</td>\n",
       "      <td>['doorway']</td>\n",
       "    </tr>\n",
       "    <tr>\n",
       "      <th>2</th>\n",
       "      <td>4</td>\n",
       "      <td>96</td>\n",
       "      <td>2019-06-11 14:24:07.42</td>\n",
       "      <td>move to the door in front of you</td>\n",
       "      <td>4</td>\n",
       "      <td>1</td>\n",
       "      <td>main2</td>\n",
       "      <td>{'text': 'move to the door in front of you', '...</td>\n",
       "      <td>head: 0 dep: ROOT; head: 0 dep: prep; head: 3 ...</td>\n",
       "      <td>(ROOT (S (VP (VB move) (PP (IN to) (NP (DT the...</td>\n",
       "      <td>8</td>\n",
       "      <td>['move']</td>\n",
       "      <td>['door', 'front']</td>\n",
       "    </tr>\n",
       "    <tr>\n",
       "      <th>3</th>\n",
       "      <td>12</td>\n",
       "      <td>74</td>\n",
       "      <td>278.8</td>\n",
       "      <td>turn to your right ninety degrees</td>\n",
       "      <td>1</td>\n",
       "      <td>8</td>\n",
       "      <td>main1</td>\n",
       "      <td>{'text': 'turn to your right ninety degrees', ...</td>\n",
       "      <td>head: 0 dep: ROOT; head: 0 dep: prep; head: 5 ...</td>\n",
       "      <td>(ROOT (S (VP (VB turn) (PP (IN to) (NP (PRP$ y...</td>\n",
       "      <td>6</td>\n",
       "      <td>['turn']</td>\n",
       "      <td>['degree']</td>\n",
       "    </tr>\n",
       "    <tr>\n",
       "      <th>4</th>\n",
       "      <td>15</td>\n",
       "      <td>224</td>\n",
       "      <td>2018-09-19 14:36:50.31</td>\n",
       "      <td>okay</td>\n",
       "      <td>3</td>\n",
       "      <td>26</td>\n",
       "      <td>train</td>\n",
       "      <td>{'text': 'okay', 'ents': [], 'sents': [{'start...</td>\n",
       "      <td>head: 0 dep: ROOT</td>\n",
       "      <td>(ROOT (ADJP (UH okay)))</td>\n",
       "      <td>1</td>\n",
       "      <td>[]</td>\n",
       "      <td>[]</td>\n",
       "    </tr>\n",
       "  </tbody>\n",
       "</table>\n",
       "</div>"
      ],
      "text/plain": [
       "   Unnamed: 0  ID#               Timestamp                    nl_instructions  \\\n",
       "0           0   98  2018-09-05 10:32:55.18                 and take a picture   \n",
       "1           3  311  2018-09-17 10:50:11.81  so how many doorways did you find   \n",
       "2           4   96  2019-06-11 14:24:07.42   move to the door in front of you   \n",
       "3          12   74                   278.8  turn to your right ninety degrees   \n",
       "4          15  224  2018-09-19 14:36:50.31                               okay   \n",
       "\n",
       "   Experiment number  Commander ID  Trial  \\\n",
       "0                  3            18  train   \n",
       "1                  3            29  train   \n",
       "2                  4             1  main2   \n",
       "3                  1             8  main1   \n",
       "4                  3            26  train   \n",
       "\n",
       "                                         spacy_parse  \\\n",
       "0  {'text': 'and take a picture', 'ents': [], 'se...   \n",
       "1  {'text': 'so how many doorways did you find', ...   \n",
       "2  {'text': 'move to the door in front of you', '...   \n",
       "3  {'text': 'turn to your right ninety degrees', ...   \n",
       "4  {'text': 'okay', 'ents': [], 'sents': [{'start...   \n",
       "\n",
       "                                      dep_parse_tree  \\\n",
       "0  head: 1 dep: cc; head: 1 dep: ROOT; head: 3 de...   \n",
       "1  head: 6 dep: advmod; head: 2 dep: advmod; head...   \n",
       "2  head: 0 dep: ROOT; head: 0 dep: prep; head: 3 ...   \n",
       "3  head: 0 dep: ROOT; head: 0 dep: prep; head: 5 ...   \n",
       "4                                  head: 0 dep: ROOT   \n",
       "\n",
       "                                  constit_parse_tree  word_len     verbs  \\\n",
       "0  (ROOT (S (CC and) (VP (VB take) (NP (DT a) (NN...         4  ['take']   \n",
       "1  (ROOT (SBARQ (WHNP (WHADJP (RB so) (WRB how) (...         7  ['find']   \n",
       "2  (ROOT (S (VP (VB move) (PP (IN to) (NP (DT the...         8  ['move']   \n",
       "3  (ROOT (S (VP (VB turn) (PP (IN to) (NP (PRP$ y...         6  ['turn']   \n",
       "4                            (ROOT (ADJP (UH okay)))         1        []   \n",
       "\n",
       "               nouns  \n",
       "0        ['picture']  \n",
       "1        ['doorway']  \n",
       "2  ['door', 'front']  \n",
       "3         ['degree']  \n",
       "4                 []  "
      ]
     },
     "execution_count": 2,
     "metadata": {},
     "output_type": "execute_result"
    }
   ],
   "source": [
    "RESULTS = \"/home/slwanna/code_projects/HRI_data_audit/results/ARL-SCOUT/ARL-SCOUT_Commander_results.csv\"\n",
    "df = pd.read_csv(RESULTS)[0:5]\n",
    "df\n"
   ]
  },
  {
   "cell_type": "code",
   "execution_count": 3,
   "metadata": {},
   "outputs": [
    {
     "name": "stderr",
     "output_type": "stream",
     "text": [
      "2024-08-07 15:19:14 INFO: Checking for updates to resources.json in case models have been updated.  Note: this behavior can be turned off with download_method=None or download_method=DownloadMethod.REUSE_RESOURCES\n"
     ]
    },
    {
     "data": {
      "application/vnd.jupyter.widget-view+json": {
       "model_id": "eded640afd014419a8666d0f26127520",
       "version_major": 2,
       "version_minor": 0
      },
      "text/plain": [
       "Downloading https://raw.githubusercontent.com/stanfordnlp/stanza-resources/main/resources_1.8.0.json:   0%|   …"
      ]
     },
     "metadata": {},
     "output_type": "display_data"
    },
    {
     "name": "stderr",
     "output_type": "stream",
     "text": [
      "2024-08-07 15:19:15 INFO: Downloaded file to /home/slwanna/stanza_resources/resources.json\n",
      "2024-08-07 15:19:15 WARNING: Language en package default expects mwt, which has been added\n",
      "2024-08-07 15:19:15 INFO: Loading these models for language: en (English):\n",
      "======================================\n",
      "| Processor    | Package             |\n",
      "--------------------------------------\n",
      "| tokenize     | combined            |\n",
      "| mwt          | combined            |\n",
      "| pos          | combined_charlm     |\n",
      "| constituency | ptb3-revised_charlm |\n",
      "======================================\n",
      "\n",
      "2024-08-07 15:19:15 INFO: Using device: cuda\n",
      "2024-08-07 15:19:15 INFO: Loading: tokenize\n",
      "2024-08-07 15:19:16 INFO: Loading: mwt\n",
      "2024-08-07 15:19:16 INFO: Loading: pos\n",
      "2024-08-07 15:19:16 INFO: Loading: constituency\n",
      "2024-08-07 15:19:17 INFO: Done loading processors!\n"
     ]
    }
   ],
   "source": [
    "nlp = stanza.Pipeline(lang=\"en\", processors=\"tokenize,pos,constituency\")\n",
    "\n",
    "doc = nlp(df[\"nl_instructions\"][0])\n"
   ]
  },
  {
   "cell_type": "code",
   "execution_count": 4,
   "metadata": {},
   "outputs": [],
   "source": [
    "tree = (doc.sentences[0].constituency)"
   ]
  },
  {
   "cell_type": "code",
   "execution_count": 5,
   "metadata": {},
   "outputs": [
    {
     "data": {
      "text/plain": [
       "(ROOT (S (CC and) (VP (VB take) (NP (DT a) (NN picture)))))"
      ]
     },
     "execution_count": 5,
     "metadata": {},
     "output_type": "execute_result"
    }
   ],
   "source": [
    "tree"
   ]
  },
  {
   "cell_type": "code",
   "execution_count": 6,
   "metadata": {},
   "outputs": [
    {
     "data": {
      "text/plain": [
       "stanza.models.constituency.parse_tree.Tree"
      ]
     },
     "execution_count": 6,
     "metadata": {},
     "output_type": "execute_result"
    }
   ],
   "source": [
    "type(tree)"
   ]
  },
  {
   "cell_type": "code",
   "execution_count": 7,
   "metadata": {},
   "outputs": [
    {
     "name": "stdout",
     "output_type": "stream",
     "text": [
      "(ROOT\n",
      "  (S\n",
      "    (CC and)\n",
      "    (VP\n",
      "      (VB take)\n",
      "      (NP (DT a) (NN picture)))))\n",
      "\n"
     ]
    }
   ],
   "source": [
    "print(tree.pretty_print())"
   ]
  },
  {
   "cell_type": "code",
   "execution_count": 8,
   "metadata": {},
   "outputs": [],
   "source": [
    "def grab_tree(s):\n",
    "    print(f\"num children: {len(s.children)}\")\n",
    "    print(s)\n",
    "\n"
   ]
  },
  {
   "cell_type": "code",
   "execution_count": 9,
   "metadata": {},
   "outputs": [
    {
     "name": "stdout",
     "output_type": "stream",
     "text": [
      "num children: 1\n",
      "(ROOT (S (CC and) (VP (VB take) (NP (DT a) (NN picture)))))\n",
      "num children: 2\n",
      "(S (CC and) (VP (VB take) (NP (DT a) (NN picture))))\n",
      "num children: 1\n",
      "(CC and)\n",
      "num children: 0\n",
      "and\n",
      "num children: 2\n",
      "(VP (VB take) (NP (DT a) (NN picture)))\n",
      "num children: 1\n",
      "(VB take)\n",
      "num children: 0\n",
      "take\n",
      "num children: 2\n",
      "(NP (DT a) (NN picture))\n",
      "num children: 1\n",
      "(DT a)\n",
      "num children: 0\n",
      "a\n",
      "num children: 1\n",
      "(NN picture)\n",
      "num children: 0\n",
      "picture\n"
     ]
    }
   ],
   "source": [
    "tree.visit_preorder(internal=grab_tree, preterminal=grab_tree, leaf=grab_tree)"
   ]
  },
  {
   "cell_type": "code",
   "execution_count": 10,
   "metadata": {},
   "outputs": [
    {
     "name": "stdout",
     "output_type": "stream",
     "text": [
      "Subtree: (ROOT (S (NP (DT This)) (VP (VBZ is) (NP (DT a) (NN sample) (NN sentence))) (. .))), Count: 1\n",
      "Subtree: (S (NP (DT This)) (VP (VBZ is) (NP (DT a) (NN sample) (NN sentence))) (. .)), Count: 1\n",
      "Subtree: (NP (DT This)), Count: 1\n",
      "Subtree: (DT This), Count: 1\n",
      "Subtree: This, Count: 1\n",
      "Subtree: (VP (VBZ is) (NP (DT a) (NN sample) (NN sentence))), Count: 1\n",
      "Subtree: (VBZ is), Count: 1\n",
      "Subtree: is, Count: 1\n",
      "Subtree: (NP (DT a) (NN sample) (NN sentence)), Count: 1\n",
      "Subtree: (DT a), Count: 1\n",
      "Subtree: a, Count: 1\n",
      "Subtree: (NN sample), Count: 1\n",
      "Subtree: sample, Count: 1\n",
      "Subtree: (NN sentence), Count: 1\n",
      "Subtree: sentence, Count: 1\n",
      "Subtree: (. .), Count: 1\n",
      "Subtree: ., Count: 1\n"
     ]
    }
   ],
   "source": [
    "# import stanza\n",
    "# from collections import defaultdict\n",
    "\n",
    "# Step 2: Download English models (only need to do this once)\n",
    "# stanza.download('en')\n",
    "\n",
    "# Step 3: Initialize the Stanza Pipeline\n",
    "\n",
    "# Step 4: Process the text\n",
    "doc = nlp(\"This is a sample sentence.\")\n",
    "\n",
    "# Function to traverse the tree and collect unique subtrees\n",
    "def collect_subtrees(tree, subtrees):\n",
    "    subtrees[str(tree)] += 1\n",
    "    for child in tree.children:\n",
    "        collect_subtrees(child, subtrees)\n",
    "\n",
    "# Step 6: Extract and collect unique subtrees\n",
    "unique_subtrees = defaultdict(int)\n",
    "for sentence in doc.sentences:\n",
    "    tree = sentence.constituency\n",
    "    collect_subtrees(tree, unique_subtrees)\n",
    "\n",
    "# Print the unique subtrees\n",
    "for subtree_str, count in unique_subtrees.items():\n",
    "    print(f\"Subtree: {subtree_str}, Count: {count}\")\n"
   ]
  }
 ],
 "metadata": {
  "kernelspec": {
   "display_name": "hri-audit",
   "language": "python",
   "name": "python3"
  },
  "language_info": {
   "codemirror_mode": {
    "name": "ipython",
    "version": 3
   },
   "file_extension": ".py",
   "mimetype": "text/x-python",
   "name": "python",
   "nbconvert_exporter": "python",
   "pygments_lexer": "ipython3",
   "version": "3.10.0"
  }
 },
 "nbformat": 4,
 "nbformat_minor": 2
}
